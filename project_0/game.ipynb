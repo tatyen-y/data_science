{
 "cells": [
  {
   "cell_type": "code",
   "execution_count": 1,
   "metadata": {},
   "outputs": [
    {
     "name": "stdout",
     "output_type": "stream",
     "text": [
      "Количество попыток: 82\n",
      "Ваш алгоритм угадывает число в среднем за: 483 попыток\n"
     ]
    }
   ],
   "source": [
    "from game_v2 import score_game, random_predict\n"
   ]
  }
 ],
 "metadata": {
  "kernelspec": {
   "display_name": "Python 3.10.6 64-bit",
   "language": "python",
   "name": "python3"
  },
  "language_info": {
   "codemirror_mode": {
    "name": "ipython",
    "version": 3
   },
   "file_extension": ".py",
   "mimetype": "text/x-python",
   "name": "python",
   "nbconvert_exporter": "python",
   "pygments_lexer": "ipython3",
   "version": "3.10.6"
  },
  "orig_nbformat": 4,
  "vscode": {
   "interpreter": {
    "hash": "838d0000507ae34e45243e0e90a962fe89b901bf8a07094868021c00dd83e714"
   }
  }
 },
 "nbformat": 4,
 "nbformat_minor": 2
}
