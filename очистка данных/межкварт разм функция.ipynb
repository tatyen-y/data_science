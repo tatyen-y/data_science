{
 "cells": [
  {
   "cell_type": "code",
   "execution_count": 1,
   "metadata": {},
   "outputs": [
    {
     "ename": "NameError",
     "evalue": "name 'sber_data' is not defined",
     "output_type": "error",
     "traceback": [
      "\u001b[1;31m---------------------------------------------------------------------------\u001b[0m",
      "\u001b[1;31mNameError\u001b[0m                                 Traceback (most recent call last)",
      "Cell \u001b[1;32mIn [1], line 15\u001b[0m\n\u001b[0;32m     13\u001b[0m     cleaned \u001b[39m=\u001b[39m data[(x\u001b[39m>\u001b[39mlower_bound) \u001b[39m&\u001b[39m (x \u001b[39m<\u001b[39m upper_bound)]\n\u001b[0;32m     14\u001b[0m     \u001b[39mreturn\u001b[39;00m outliers, cleaned\n\u001b[1;32m---> 15\u001b[0m outliers, cleaned \u001b[39m=\u001b[39m outliers_iqr_mod(sber_data, \u001b[39m'\u001b[39m\u001b[39mprice_doc\u001b[39m\u001b[39m'\u001b[39m, \u001b[39mTrue\u001b[39;00m, \u001b[39m3\u001b[39m,\u001b[39m3\u001b[39m)\n\u001b[0;32m     16\u001b[0m \u001b[39mprint\u001b[39m(\u001b[39mf\u001b[39m\u001b[39m'\u001b[39m\u001b[39mЧисло выбросов по методу Тьюки: \u001b[39m\u001b[39m{\u001b[39;00moutliers\u001b[39m.\u001b[39mshape[\u001b[39m0\u001b[39m]\u001b[39m}\u001b[39;00m\u001b[39m'\u001b[39m)\n\u001b[0;32m     17\u001b[0m \u001b[39mprint\u001b[39m(\u001b[39mf\u001b[39m\u001b[39m'\u001b[39m\u001b[39mРезультирующее число записей: \u001b[39m\u001b[39m{\u001b[39;00mcleaned\u001b[39m.\u001b[39mshape[\u001b[39m0\u001b[39m]\u001b[39m}\u001b[39;00m\u001b[39m'\u001b[39m)\n",
      "\u001b[1;31mNameError\u001b[0m: name 'sber_data' is not defined"
     ]
    }
   ],
   "source": [
    "#функция межквартильных размахов с опцией логарифмирования плюс построение графиков гистограммы и коробки \n",
    "# распределения для обычного и логарифмированного распределения с построением вертикальных линий\n",
    "def outliers_iqr_mod(data, feature, log_scale = False, left = 1.5, right= 1.5):\n",
    "    if log_scale:\n",
    "        x = np.log(data[feature])\n",
    "    else:\n",
    "        x = data[feature]\n",
    "    quartile_1, quartile_3 = x.quantile(0.25), x.quantile(0.75),\n",
    "    iqr = quartile_3 - quartile_1\n",
    "    lower_bound = quartile_1 - (iqr *left )\n",
    "    upper_bound = quartile_3 + (iqr * right)\n",
    "    outliers = data[(x<lower_bound) | (x > upper_bound)]\n",
    "    cleaned = data[(x>lower_bound) & (x < upper_bound)]\n",
    "    return outliers, cleaned\n",
    "outliers, cleaned = outliers_iqr_mod(sber_data, 'price_doc', True, 3,3)\n",
    "print(f'Число выбросов по методу Тьюки: {outliers.shape[0]}')\n",
    "print(f'Результирующее число записей: {cleaned.shape[0]}')\n",
    "\n",
    "\n",
    "fig, axes = plt.subplots(nrows=1, ncols=2, figsize=(15, 4))\n",
    "histplot = sns.histplot(data=cleaned, x='full_sq', ax=axes[0]);\n",
    "histplot.set_title('Cleaned Full Square Distribution');\n",
    "boxplot = sns.boxplot(data=cleaned, x='full_sq', ax=axes[1]);\n",
    "boxplot.set_title('Cleaned Full Square Boxplot');\n",
    "\n",
    "fig, ax = plt.subplots(1, 1, figsize=(8, 4))\n",
    "a = np.log(sber_data['price_doc'] + 1)\n",
    "histplot = sns.histplot(a, bins=30, ax=ax)\n",
    "histplot.axvline(a.mean(), color='k', lw=2)\n",
    "histplot.axvline(a.mean()+ 3 * a.std(), color='k', ls='--', lw=2)\n",
    "histplot.axvline(a.mean()- 3 * a.std(), color='k', ls='--', lw=2)\n",
    "histplot.set_title('Price Distribution');\n",
    "\n"
   ]
  },
  {
   "cell_type": "code",
   "execution_count": null,
   "metadata": {},
   "outputs": [],
   "source": []
  }
 ],
 "metadata": {
  "kernelspec": {
   "display_name": "Python 3.11.0 64-bit",
   "language": "python",
   "name": "python3"
  },
  "language_info": {
   "codemirror_mode": {
    "name": "ipython",
    "version": 3
   },
   "file_extension": ".py",
   "mimetype": "text/x-python",
   "name": "python",
   "nbconvert_exporter": "python",
   "pygments_lexer": "ipython3",
   "version": "3.11.0"
  },
  "orig_nbformat": 4,
  "vscode": {
   "interpreter": {
    "hash": "7dc41801cb733823d51f5a3b2beda62df20d3bf011ad730ae0b8a4522a55944d"
   }
  }
 },
 "nbformat": 4,
 "nbformat_minor": 2
}
